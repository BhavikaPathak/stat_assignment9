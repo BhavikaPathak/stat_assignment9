{
 "cells": [
  {
   "cell_type": "markdown",
   "id": "2a2e930f-0b76-4919-84ea-f96fad4c6b58",
   "metadata": {},
   "source": [
    "# ANSWER 1"
   ]
  },
  {
   "cell_type": "code",
   "execution_count": 8,
   "id": "97b2faf3-c95b-4af8-a4e0-eea8f3610f09",
   "metadata": {},
   "outputs": [],
   "source": [
    "import numpy as np\n",
    "import scipy.stats as stats\n",
    "\n",
    "def variance_ratio_test(data1, data2):\n",
    "    # Calculate the sample variances\n",
    "    var1 = np.var(data1, ddof=1)\n",
    "    var2 = np.var(data2, ddof=1)\n",
    "\n",
    "    # Calculate the F-value for variance ratio test\n",
    "    F_value = var1 / var2\n",
    "\n",
    "    # Calculate the degrees of freedom\n",
    "    df1 = len(data1) - 1\n",
    "    df2 = len(data2) - 1\n",
    "\n",
    "    # Calculate the p-value for the test\n",
    "    p_value = 2 * min(stats.f.cdf(F_value, df1, df2), 1 - stats.f.cdf(F_value, df1, df2))\n",
    "\n",
    "    return F_value, p_value"
   ]
  },
  {
   "cell_type": "code",
   "execution_count": 9,
   "id": "735e36fe-004c-46e9-9d67-b2a6f6b3fb51",
   "metadata": {},
   "outputs": [
    {
     "name": "stdout",
     "output_type": "stream",
     "text": [
      "1.0790810387466838 0.7056972826097985\n"
     ]
    }
   ],
   "source": [
    "print(F_value, p_value)"
   ]
  },
  {
   "cell_type": "markdown",
   "id": "b6453b70-d0ee-43d2-855f-89e5606babb8",
   "metadata": {},
   "source": [
    "# ANSWER 2"
   ]
  },
  {
   "cell_type": "code",
   "execution_count": 15,
   "id": "19218eef-e321-4fe3-9068-d64086a8f271",
   "metadata": {},
   "outputs": [],
   "source": [
    "def critical_f_value(significance_level, df1, df2):\n",
    "    return stats.f.ppf(1 - significance_level / 2, df1, df2)"
   ]
  },
  {
   "cell_type": "markdown",
   "id": "811294c8-c912-479b-90e3-a4ba65331681",
   "metadata": {},
   "source": [
    "# ANSWER 3"
   ]
  },
  {
   "cell_type": "code",
   "execution_count": 13,
   "id": "b1860b6a-51f9-4230-ba9e-991dc92ba569",
   "metadata": {},
   "outputs": [
    {
     "name": "stdout",
     "output_type": "stream",
     "text": [
      "F-value: 0.6912734719626964\n",
      "Degrees of freedom: 99 99\n",
      "P-value: 0.06769050538823464\n"
     ]
    }
   ],
   "source": [
    "def f_test_for_variances(data1, data2):\n",
    "    # Calculate the sample variances\n",
    "    var1 = np.var(data1, ddof=1)\n",
    "    var2 = np.var(data2, ddof=1)\n",
    "\n",
    "    # Calculate the F-value for F-test\n",
    "    F_value = var1 / var2\n",
    "\n",
    "    # Calculate the degrees of freedom\n",
    "    df1 = len(data1) - 1\n",
    "    df2 = len(data2) - 1\n",
    "\n",
    "    # Calculate the p-value for the test\n",
    "    p_value = 2 * min(stats.f.cdf(F_value, df1, df2), 1 - stats.f.cdf(F_value, df1, df2))\n",
    "\n",
    "    return F_value, df1, df2, p_value\n",
    "\n",
    "# Example usage:\n",
    "data1 = np.random.normal(loc=10, scale=3, size=100)\n",
    "data2 = np.random.normal(loc=10, scale=3, size=100)\n",
    "\n",
    "F_value, df1, df2, p_value = f_test_for_variances(data1, data2)\n",
    "print(\"F-value:\", F_value)\n",
    "print(\"Degrees of freedom:\", df1, df2)\n",
    "print(\"P-value:\", p_value)"
   ]
  },
  {
   "cell_type": "markdown",
   "id": "055dccc9-7da4-4015-a03a-38823463aa76",
   "metadata": {},
   "source": [
    "# ANSWER 4"
   ]
  },
  {
   "cell_type": "code",
   "execution_count": 14,
   "id": "0b18910c-116c-4b95-833a-dcf94f9af2fb",
   "metadata": {},
   "outputs": [
    {
     "name": "stdout",
     "output_type": "stream",
     "text": [
      "F-value: 0.6666666666666666\n",
      "Degrees of freedom: 11 11\n",
      "P-value: 0.5123897987357996\n",
      "Critical F-value: 3.473699051085809\n",
      "Variances are not significantly different\n"
     ]
    }
   ],
   "source": [
    "def f_test_for_known_variances(var1, var2, n1, n2, alpha):\n",
    "    # Calculate the F-value for F-test\n",
    "    F_value = var1 / var2\n",
    "\n",
    "    # Calculate the degrees of freedom\n",
    "    df1 = n1 - 1\n",
    "    df2 = n2 - 1\n",
    "\n",
    "    # Calculate the critical F-value for two-tailed test\n",
    "    critical_F = stats.f.ppf(1 - alpha / 2, df1, df2)\n",
    "\n",
    "    # Calculate the p-value for the test\n",
    "    p_value = 2 * min(stats.f.cdf(F_value, df1, df2), 1 - stats.f.cdf(F_value, df1, df2))\n",
    "\n",
    "    # Determine if the variances are significantly different\n",
    "    if F_value > critical_F:\n",
    "        conclusion = \"Variances are significantly different\"\n",
    "    else:\n",
    "        conclusion = \"Variances are not significantly different\"\n",
    "\n",
    "    return F_value, df1, df2, p_value, critical_F, conclusion\n",
    "\n",
    "var1 = 10\n",
    "var2 = 15\n",
    "n1 = 12\n",
    "n2 = 12\n",
    "alpha = 0.05\n",
    "\n",
    "F_value, df1, df2, p_value, critical_F, conclusion = f_test_for_known_variances(var1, var2, n1, n2, alpha)\n",
    "print(\"F-value:\", F_value)\n",
    "print(\"Degrees of freedom:\", df1, df2)\n",
    "print(\"P-value:\", p_value)\n",
    "print(\"Critical F-value:\", critical_F)\n",
    "print(conclusion)"
   ]
  },
  {
   "cell_type": "markdown",
   "id": "62148227-f3f6-40ae-86b9-0fb34f2155c0",
   "metadata": {},
   "source": [
    "# ANSWER 5"
   ]
  },
  {
   "cell_type": "code",
   "execution_count": 17,
   "id": "370cfdd7-cd44-4f56-95f4-e2c99f82e0f9",
   "metadata": {},
   "outputs": [
    {
     "name": "stdout",
     "output_type": "stream",
     "text": [
      "F-value: 1.2\n",
      "Degrees of freedom: 24 1\n",
      "P-value: 0.7407800760081285\n",
      "Critical F-value: 24939.565259943236\n",
      "Claim is justified\n"
     ]
    }
   ],
   "source": [
    "import scipy.stats as stats\n",
    "\n",
    "def f_test_for_variance_claim(sample_variance, sample_size, claim_variance, alpha):\n",
    "    F_value = sample_variance / claim_variance\n",
    "\n",
    "    # Calculate the degrees of freedom\n",
    "    df1 = sample_size - 1\n",
    "    df2 = 1\n",
    "\n",
    "    # Calculate the critical F-value for two-tailed test\n",
    "    critical_F = stats.f.ppf(1 - alpha / 2, df1, df2)\n",
    "\n",
    "    # Calculate the p-value for the test\n",
    "    p_value = 2 * min(stats.f.cdf(F_value, df1, df2), 1 - stats.f.cdf(F_value, df1, df2))\n",
    "\n",
    "    # Determine if the claim is justified\n",
    "    if F_value < critical_F:\n",
    "        conclusion = \"Claim is justified\"\n",
    "    else:\n",
    "        conclusion = \"Claim is not justified\"\n",
    "\n",
    "    return F_value, df1, df2, p_value, critical_F, conclusion\n",
    "\n",
    "# Example usage:\n",
    "sample_variance = 0.006\n",
    "sample_size = 25\n",
    "claim_variance = 0.005\n",
    "alpha = 0.01\n",
    "\n",
    "F_value, df1, df2, p_value, critical_F, conclusion = f_test_for_variance_claim(sample_variance, sample_size, claim_variance, alpha)\n",
    "print(\"F-value:\", F_value)\n",
    "print(\"Degrees of freedom:\", df1, df2)\n",
    "print(\"P-value:\", p_value)\n",
    "print(\"Critical F-value:\", critical_F)\n",
    "print(conclusion)"
   ]
  },
  {
   "cell_type": "markdown",
   "id": "36f188f6-fe8f-44df-afd8-175735135793",
   "metadata": {},
   "source": [
    "# ANSWER 6"
   ]
  },
  {
   "cell_type": "code",
   "execution_count": 22,
   "id": "6c6e9bfd-c83b-431f-b910-052a7c739ce4",
   "metadata": {},
   "outputs": [],
   "source": [
    "def f_distribution_mean_variance(df1, df2):\n",
    "    mean = df2 / (df2 - 2)\n",
    "    variance = (2 * (df2**2) * (df1 + df2 - 2)) / ((df1 * (df2 - 2)**2 * (df2 - 4)))\n",
    "    return mean, variance"
   ]
  },
  {
   "cell_type": "markdown",
   "id": "106edecc-a1bd-4759-9a9d-c0edb89f4d9b",
   "metadata": {},
   "source": [
    "# ANSWER 7"
   ]
  },
  {
   "cell_type": "code",
   "execution_count": 24,
   "id": "33a79e01-ef2c-4b5b-9304-a47730b423c1",
   "metadata": {},
   "outputs": [
    {
     "name": "stdout",
     "output_type": "stream",
     "text": [
      "F-value: 1.25\n",
      "Degrees of freedom: 9 14\n",
      "P-value: 0.6832194382585954\n",
      "Critical F-value: 2.6457907352338195\n",
      "Variances are not significantly different\n"
     ]
    }
   ],
   "source": [
    "import scipy.stats as stats\n",
    "\n",
    "def f_test_for_variances(sample_variance1, sample_size1, sample_variance2, sample_size2, alpha):\n",
    "    # Calculate the F-value for F-test\n",
    "    F_value = sample_variance1 / sample_variance2\n",
    "\n",
    "    # Calculate the degrees of freedom\n",
    "    df1 = sample_size1 - 1\n",
    "    df2 = sample_size2 - 1\n",
    "\n",
    "    # Calculate the critical F-value for two-tailed test\n",
    "    critical_F = stats.f.ppf(1 - alpha / 2, df1, df2)\n",
    "\n",
    "    # Calculate the p-value for the test\n",
    "    p_value = 2 * min(stats.f.cdf(F_value, df1, df2), 1 - stats.f.cdf(F_value, df1, df2))\n",
    "\n",
    "    # Determine if the variances are significantly different\n",
    "    if F_value > critical_F:\n",
    "        conclusion = \"Variances are significantly different\"\n",
    "    else:\n",
    "        conclusion = \"Variances are not significantly different\"\n",
    "\n",
    "    return F_value, df1, df2, p_value, critical_F, conclusion\n",
    "\n",
    "sample_variance1 = 25\n",
    "sample_size1 = 10\n",
    "sample_variance2 = 20\n",
    "sample_size2 = 15\n",
    "alpha = 0.10\n",
    "\n",
    "F_value, df1, df2, p_value, critical_F, conclusion = f_test_for_variances(sample_variance1, sample_size1, sample_variance2, sample_size2, alpha)\n",
    "print(\"F-value:\", F_value)\n",
    "print(\"Degrees of freedom:\", df1, df2)\n",
    "print(\"P-value:\", p_value)\n",
    "print(\"Critical F-value:\", critical_F)\n",
    "print(conclusion)"
   ]
  },
  {
   "cell_type": "markdown",
   "id": "6784bedd-5457-4518-bca4-7ad10e4d11fc",
   "metadata": {},
   "source": [
    "# ANSWER 8"
   ]
  },
  {
   "cell_type": "code",
   "execution_count": 25,
   "id": "f816c8eb-bab3-4359-9ff5-ce4958afaa99",
   "metadata": {},
   "outputs": [
    {
     "name": "stdout",
     "output_type": "stream",
     "text": [
      "F-value: 1.4551907719609583\n",
      "Degrees of freedom: 6 5\n",
      "P-value: 0.6974815747937484\n",
      "Critical F-value: 6.977701858535566\n",
      "Variances are not significantly different\n"
     ]
    }
   ],
   "source": [
    "def f_test_for_waiting_times(waiting_times_a, waiting_times_b, alpha):\n",
    "\n",
    "    var_a = np.var(waiting_times_a, ddof=1)\n",
    "    var_b = np.var(waiting_times_b, ddof=1)\n",
    "\n",
    "    F_value = var_a / var_b\n",
    "\n",
    "    df1 = len(waiting_times_a) - 1\n",
    "    df2 = len(waiting_times_b) - 1\n",
    "\n",
    "    critical_F = stats.f.ppf(1 - alpha / 2, df1, df2)\n",
    "\n",
    "    p_value = 2 * min(stats.f.cdf(F_value, df1, df2), 1 - stats.f.cdf(F_value, df1, df2))\n",
    "\n",
    "    if F_value > critical_F:\n",
    "        conclusion = \"Variances are significantly different\"\n",
    "    else:\n",
    "        conclusion = \"Variances are not significantly different\"\n",
    "\n",
    "    return F_value, df1, df2, p_value, critical_F, conclusion\n",
    "\n",
    "waiting_times_a = [24, 25, 28, 23, 22, 20, 27]\n",
    "waiting_times_b = [31, 33, 35, 30, 32, 36]\n",
    "alpha = 0.05\n",
    "\n",
    "F_value, df1, df2, p_value, critical_F, conclusion = f_test_for_waiting_times(waiting_times_a, waiting_times_b, alpha)\n",
    "print(\"F-value:\", F_value)\n",
    "print(\"Degrees of freedom:\", df1, df2)\n",
    "print(\"P-value:\", p_value)\n",
    "print(\"Critical F-value:\", critical_F)\n",
    "print(conclusion)"
   ]
  },
  {
   "cell_type": "markdown",
   "id": "57233e8c-9039-4195-aae7-ca08f831fce9",
   "metadata": {},
   "source": [
    "# ANSWER 9"
   ]
  },
  {
   "cell_type": "code",
   "execution_count": 26,
   "id": "ca7b4f1f-11eb-4a65-9cfe-681e6dc24b16",
   "metadata": {},
   "outputs": [
    {
     "name": "stdout",
     "output_type": "stream",
     "text": [
      "F-value: 1.9442622950819677\n",
      "Degrees of freedom: 5 5\n",
      "P-value: 0.4831043549070688\n",
      "Critical F-value: 14.939605459912224\n",
      "Variances are not significantly different\n"
     ]
    }
   ],
   "source": [
    "def f_test_for_test_scores(group_a_scores, group_b_scores, alpha):\n",
    "    # Calculate the sample variances\n",
    "    var_a = np.var(group_a_scores, ddof=1)\n",
    "    var_b = np.var(group_b_scores, ddof=1)\n",
    "\n",
    "    F_value = var_a / var_b\n",
    "\n",
    "    df1 = len(group_a_scores) - 1\n",
    "    df2 = len(group_b_scores) - 1\n",
    "\n",
    "    # Calculate the critical F-value for two-tailed test\n",
    "    critical_F = stats.f.ppf(1 - alpha / 2, df1, df2)\n",
    "\n",
    "    # Calculate the p-value for the test\n",
    "    p_value = 2 * min(stats.f.cdf(F_value, df1, df2), 1 - stats.f.cdf(F_value, df1, df2))\n",
    "\n",
    "    # Determine if the variances are significantly different\n",
    "    if F_value > critical_F:\n",
    "        conclusion = \"Variances are significantly different\"\n",
    "    else:\n",
    "        conclusion = \"Variances are not significantly different\"\n",
    "\n",
    "    return F_value, df1, df2, p_value, critical_F, conclusion\n",
    "\n",
    "group_a_scores = [80, 85, 90, 92, 87, 83]\n",
    "group_b_scores = [75, 78, 82, 79, 81, 84]\n",
    "alpha = 0.01\n",
    "\n",
    "F_value, df1, df2, p_value, critical_F, conclusion = f_test_for_test_scores(group_a_scores, group_b_scores, alpha)\n",
    "print(\"F-value:\", F_value)\n",
    "print(\"Degrees of freedom:\", df1, df2)\n",
    "print(\"P-value:\", p_value)\n",
    "print(\"Critical F-value:\", critical_F)\n",
    "print(conclusion)"
   ]
  },
  {
   "cell_type": "code",
   "execution_count": null,
   "id": "ef0687d8-85e9-4b77-8695-778d1874a7a0",
   "metadata": {},
   "outputs": [],
   "source": []
  },
  {
   "cell_type": "code",
   "execution_count": null,
   "id": "6fcf5dfd-12c1-4c79-b8d3-c10bcdfc34fb",
   "metadata": {},
   "outputs": [],
   "source": []
  }
 ],
 "metadata": {
  "kernelspec": {
   "display_name": "Python 3 (ipykernel)",
   "language": "python",
   "name": "python3"
  },
  "language_info": {
   "codemirror_mode": {
    "name": "ipython",
    "version": 3
   },
   "file_extension": ".py",
   "mimetype": "text/x-python",
   "name": "python",
   "nbconvert_exporter": "python",
   "pygments_lexer": "ipython3",
   "version": "3.10.8"
  }
 },
 "nbformat": 4,
 "nbformat_minor": 5
}
